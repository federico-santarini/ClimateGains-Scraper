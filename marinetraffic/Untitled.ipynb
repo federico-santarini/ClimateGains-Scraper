{
 "cells": [
  {
   "cell_type": "code",
   "execution_count": 343,
   "metadata": {},
   "outputs": [],
   "source": [
    "import pymongo"
   ]
  },
  {
   "cell_type": "code",
   "execution_count": 344,
   "metadata": {},
   "outputs": [],
   "source": [
    "def isThereAnyIcebreaker(collection):\n",
    "    # Check presence of YamalFleet in a collection\n",
    "    fleet = ['273390840']\n",
    "    icebrakersInPort = []\n",
    "    \n",
    "    for mmsi in fleet:\n",
    "        query = { \"mmsi\": mmsi }\n",
    "        \n",
    "        queryResult = db[collection].find(query, {'_id':0})\n",
    "        \n",
    "        for vessel in queryResult:\n",
    "            icebrakersInPort.append(vessel)\n",
    "    \n",
    "    return icebrakersInPort"
   ]
  },
  {
   "cell_type": "code",
   "execution_count": 345,
   "metadata": {},
   "outputs": [],
   "source": [
    "# Connect to client and database\n",
    "\n",
    "myclient = pymongo.MongoClient('localhost', 27017)\n",
    "db = myclient['SabettaPort']"
   ]
  },
  {
   "cell_type": "code",
   "execution_count": 346,
   "metadata": {},
   "outputs": [
    {
     "data": {
      "text/plain": [
       "['2020-05-27 | 10:48',\n",
       " '2020-05-27 | 10:53',\n",
       " '2020-05-27 | 10:55',\n",
       " '2020-05-27 | 11:00',\n",
       " '2020-05-27 | 11:01',\n",
       " '2020-05-28 | 14:40',\n",
       " '2020-05-28 | 14:53',\n",
       " '2020-05-29 | 10:41',\n",
       " '2020-05-29 | 11:08',\n",
       " '2020-05-29 | 11:35',\n",
       " '2020-05-29 | 11:43',\n",
       " '2020-05-29 | 12:16']"
      ]
     },
     "execution_count": 346,
     "metadata": {},
     "output_type": "execute_result"
    }
   ],
   "source": [
    "# Get sorted list of database's collections\n",
    "\n",
    "coll_list = sorted(db.list_collection_names())\n",
    "coll_list"
   ]
  },
  {
   "cell_type": "code",
   "execution_count": 347,
   "metadata": {},
   "outputs": [
    {
     "name": "stdout",
     "output_type": "stream",
     "text": [
      "vesselsBefore:  []\n",
      "vesselsNow:  [{'name': 'YURIBEY', 'mmsi': '273390840', 'imo': '9822463', 'link': 'https://www.vesselfinder.com/?mmsi=273390840', 'vesselType': 'Tugs &amp; Special Craft'}]\n"
     ]
    }
   ],
   "source": [
    "vesselsBefore = isThereAnyIcebreaker(coll_list[-2])\n",
    "vesselsNow = isThereAnyIcebreaker(coll_list[-1])\n",
    "print('vesselsBefore: ', vesselsBefore)\n",
    "print('vesselsNow: ', vesselsNow)"
   ]
  },
  {
   "cell_type": "code",
   "execution_count": 350,
   "metadata": {},
   "outputs": [
    {
     "name": "stdout",
     "output_type": "stream",
     "text": [
      "YURIBEY is just arrived\n"
     ]
    }
   ],
   "source": [
    "from datetime import datetime\n",
    "\n",
    "for vessel in vesselsNow:\n",
    "    if (vessel not in vesselsBefore):\n",
    "        print(vessel['name'], \"is just arrived\")\n",
    "        #newVessels.append(vessel)\n",
    "        db = myclient['JustArrived']\n",
    "        collection = db[datetime.now().strftime('%Y-%m-%d | %H:%M')]\n",
    "        \n",
    "        collection.insert_one(dict(vessel))\n",
    "    else:\n",
    "        print(vessel, \"was already there\")"
   ]
  },
  {
   "cell_type": "code",
   "execution_count": null,
   "metadata": {},
   "outputs": [],
   "source": []
  },
  {
   "cell_type": "code",
   "execution_count": null,
   "metadata": {},
   "outputs": [],
   "source": []
  },
  {
   "cell_type": "code",
   "execution_count": null,
   "metadata": {},
   "outputs": [],
   "source": []
  },
  {
   "cell_type": "code",
   "execution_count": null,
   "metadata": {},
   "outputs": [],
   "source": []
  },
  {
   "cell_type": "code",
   "execution_count": null,
   "metadata": {},
   "outputs": [],
   "source": []
  },
  {
   "cell_type": "code",
   "execution_count": null,
   "metadata": {},
   "outputs": [],
   "source": []
  }
 ],
 "metadata": {
  "kernelspec": {
   "display_name": "Python 3",
   "language": "python",
   "name": "python3"
  },
  "language_info": {
   "codemirror_mode": {
    "name": "ipython",
    "version": 3
   },
   "file_extension": ".py",
   "mimetype": "text/x-python",
   "name": "python",
   "nbconvert_exporter": "python",
   "pygments_lexer": "ipython3",
   "version": "3.7.7"
  }
 },
 "nbformat": 4,
 "nbformat_minor": 4
}
